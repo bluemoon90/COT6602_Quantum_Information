{
 "cells": [
  {
   "cell_type": "code",
   "execution_count": 1,
   "metadata": {
    "inputHidden": false,
    "outputHidden": false
   },
   "outputs": [],
   "source": [
    "import numpy as np\n",
    "from numpy.linalg import norm\n",
    "import matplotlib.pyplot as plt\n",
    "%config InlineBackend.figure_format = 'retina'"
   ]
  },
  {
   "cell_type": "markdown",
   "metadata": {},
   "source": [
    "Define variables for $| 0 \\rangle$, $| 1 \\rangle$, $| 0 \\rangle\\langle 0 |$, and $| 1 \\rangle\\langle 1 |$, and a function to compute $\\varphi_1 \\otimes \\varphi_2 \\otimes ... \\otimes\\varphi_n$."
   ]
  },
  {
   "cell_type": "code",
   "execution_count": 2,
   "metadata": {
    "inputHidden": false,
    "outputHidden": false
   },
   "outputs": [],
   "source": [
    "#Initialising arrays\n",
    "Zero = np.array([[1], [0]])\n",
    "One = np.array([[0], [1]])\n",
    "\n",
    "#Dot product '.T' transposes the array\n",
    "P0 = np.dot(Zero, Zero.T)\n",
    "P1 = np.dot(One, One.T)\n",
    "\n",
    "def otimes(*args):\n",
    "    #Method which form Kronecker product on the matrix based on input arguments given\n",
    "    result = np.array([[1.0]])\n",
    "    for op in args:\n",
    "        #Performing Kronecker product \n",
    "        result = np.kron(result, op)\n",
    "    return result"
   ]
  },
  {
   "cell_type": "markdown",
   "metadata": {},
   "source": [
    "Define:\n",
    "\n",
    "$$|\\varphi\\rangle = \\bigotimes_{k=n-1,\\ldots,0} \\frac{1}{\\sqrt{2}} \\left(  |0\\rangle + \\exp(2\\pi i 2^k \\varphi) |1\\rangle \\right)$$\n",
    "\n",
    "and the Quantum Fourier transform $F_N$:\n",
    "\n",
    "$$F_N = \\frac{1}{\\sqrt{N}} \\sum_{k,\\ell\\in[N]} \\omega^{k\\cdot \\ell} |k\\rangle\\langle\\ell|$$\n",
    "\n",
    "where:\n",
    "\n",
    "$n=2^N$, $[N] = {0,1,...,N-1}$, and $\\omega=e^{2\\pi i / N}$"
   ]
  },
  {
   "cell_type": "code",
   "execution_count": 3,
   "metadata": {
    "inputHidden": false,
    "outputHidden": false
   },
   "outputs": [],
   "source": [
    "def ket_phi(phi, n):\n",
    "    #initialising result array\n",
    "    result = np.array([[1]])\n",
    "    \n",
    "    #Applying formula with decreament in k (Reverse loop)\n",
    "    for k in reversed(xrange(n)):\n",
    "        #Applying above given formula\n",
    "        e = np.exp(2*np.pi*1j*(2**k)*phi)\n",
    "        \n",
    "        #computing result\n",
    "        result = otimes(result,  1/np.sqrt(2) * (Zero + e * One))\n",
    "    return result\n",
    "\n",
    "def F(N):\n",
    "    #outer product\n",
    "    k_times_l = np.outer(np.arange(N), np.arange(N))\n",
    "    \n",
    "    #Computing the final value\n",
    "    a = 1/np.sqrt(N)\n",
    "    b = np.exp(2*np.pi*1j/N * k_times_l)\n",
    "    F = a * b\n",
    "    return F"
   ]
  },
  {
   "cell_type": "code",
   "execution_count": 4,
   "metadata": {
    "inputHidden": false,
    "outputHidden": false
   },
   "outputs": [],
   "source": [
    "# now the main thing:\n",
    "#initialisng constants and variables\n",
    "n = 5\n",
    "N = 2**n\n",
    "phi = 12.3/32.\n",
    "\n",
    "#Applying dot product on conjugate of F(N) and the matrix returned by ket_phi(phi,n)\n",
    "psi = np.dot(np.conj(F(N)).T, ket_phi(phi, n))\n",
    "\n",
    "# method 1 for measurment, directly using slide 72\n",
    "p_x = []\n",
    "\n",
    "#Repeat N times\n",
    "for i in xrange(N):\n",
    "    bin_str = ('{0:0'+str(n)+'b}').format(i)\n",
    "    \n",
    "    #compute param to be passed to otimes method\n",
    "    x = [(P0 if j=='0' else P1) for j in bin_str]\n",
    "    \n",
    "    #call to otimes method with computed x\n",
    "    P_b = otimes(*x)\n",
    "    \n",
    "    #Squaring the elements, we have to do it N times in loop\n",
    "    p_i = np.square(np.linalg.norm(np.dot(P_b, psi)))\n",
    "    p_x.append(p_i)\n",
    "    \n",
    "# method 2\n",
    "# p_x = np.dot(psi, psi.conj().T)\n",
    "# p_x = np.real(np.diag(p_x)) # remove small imaginary values due to calculation error."
   ]
  },
  {
   "cell_type": "markdown",
   "metadata": {},
   "source": [
    "Plotting the probability distribution:"
   ]
  },
  {
   "cell_type": "code",
   "execution_count": 5,
   "metadata": {
    "inputHidden": false,
    "outputHidden": false
   },
   "outputs": [
    {
     "data": {
      "image/png": "[encoded data removed]",
      "text/plain": [
       "<Figure size 504x288 with 1 Axes>"
      ]
     },
     "metadata": {
      "image/png": {
       "height": 280,
       "width": 443
      },
      "needs_background": "light"
     },
     "output_type": "display_data"
    }
   ],
   "source": [
    "#plotting the graphs\n",
    "plt.figure(figsize=(7, 4))\n",
    "plt.stem(np.arange(N), p_x)\n",
    "plt.xticks(np.arange(0, N, 2))\n",
    "plt.xlabel('x')\n",
    "plt.ylabel('Pr(x)')\n",
    "plt.title('$N=2^{%d}$, $\\phi=%g/%d$'%(n, phi*N, N)) \n",
    "plt.show()"
   ]
  }
 ],
 "metadata": {
  "kernel_info": {
   "name": "python2"
  },
  "kernelspec": {
   "display_name": "Python 3",
   "language": "python",
   "name": "python3"
  },
  "language_info": {
   "codemirror_mode": {
    "name": "ipython",
    "version": 3
   },
   "file_extension": ".py",
   "mimetype": "text/x-python",
   "name": "python",
   "nbconvert_exporter": "python",
   "pygments_lexer": "ipython3",
   "version": "3.6.6"
  },
  "nteract": {
   "version": "0.12.3"
  }
 },
 "nbformat": 4,
 "nbformat_minor": 4
}
