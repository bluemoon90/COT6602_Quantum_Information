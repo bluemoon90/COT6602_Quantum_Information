{
 "cells": [
  {
   "cell_type": "code",
   "execution_count": 1,
   "metadata": {
    "inputHidden": false,
    "outputHidden": false
   },
   "outputs": [],
   "source": [
    "import numpy as np"
   ]
  },
  {
   "cell_type": "markdown",
   "metadata": {},
   "source": [
    "Define variables for $| 0 \\rangle$, $| 1 \\rangle$, $| i \\rangle$, Hadamard, $| 0 \\rangle\\langle 0 |$, and $| 1 \\rangle\\langle 1 |$ and a function to compute $\\varphi_1 \\otimes \\varphi_2 \\otimes ... \\otimes\\varphi_n$."
   ]
  },
  {
   "cell_type": "code",
   "execution_count": 2,
   "metadata": {
    "inputHidden": false,
    "outputHidden": false
   },
   "outputs": [],
   "source": [
    "#initialising arrays\n",
    "Zero = np.array([[1], [0]])\n",
    "One = np.array([[0], [1]])\n",
    "\n",
    "#Dot product on transpose and the matrix itself\n",
    "P0 = np.dot(Zero, Zero.T)\n",
    "P1 = np.dot(One, One.T)\n",
    "\n",
    "#applying hadamrd equation\n",
    "A = np.array([[1, 1],\n",
    "             [1, -1]])\n",
    "\n",
    "B = 1./np.sqrt(2)\n",
    "Hadamard =  B * A\n",
    "\n",
    "#Creates an array with all 0 excpt the ith position\n",
    "def ket(i, n):\n",
    "    r = np.zeros((2**n,))\n",
    "    r[i] = 1\n",
    "    return r\n",
    "\n",
    "def otimes(*args):\n",
    "    #method to apply Kronecker product using args\n",
    "    result = np.array([[1.0]])\n",
    "    for arg in args:\n",
    "        #Apply Kronecker product in loop\n",
    "        result = np.kron(result, arg)\n",
    "    return result"
   ]
  },
  {
   "cell_type": "markdown",
   "metadata": {},
   "source": [
    "SWAP operator"
   ]
  },
  {
   "cell_type": "code",
   "execution_count": 3,
   "metadata": {
    "inputHidden": false,
    "outputHidden": false
   },
   "outputs": [],
   "source": [
    "#computing sum of outer products\n",
    "S = np.outer(ket(0,2), ket(0,2)) + \\\n",
    "    np.outer(ket(1,2), ket(2,2)) + \\\n",
    "    np.outer(ket(2,2), ket(1,2)) + \\\n",
    "    np.outer(ket(3,2), ket(3,2))"
   ]
  },
  {
   "cell_type": "markdown",
   "metadata": {},
   "source": [
    "Hadamard on Q0, then controlled swap on Q1 and Q2, then Hadamard on Q0"
   ]
  },
  {
   "cell_type": "code",
   "execution_count": 4,
   "metadata": {
    "inputHidden": false,
    "outputHidden": false
   },
   "outputs": [],
   "source": [
    "#otimes call\n",
    "T =           otimes(Hadamard, np.eye(4))\n",
    "\n",
    "#Dot products of previously computed T\n",
    "T = np.dot(T, otimes(P0, np.eye(4)) + otimes(P1, S))\n",
    "T = np.dot(T, otimes(Hadamard, np.eye(4)))"
   ]
  },
  {
   "cell_type": "code",
   "execution_count": 5,
   "metadata": {
    "inputHidden": false,
    "outputHidden": false
   },
   "outputs": [],
   "source": [
    "#cmputing square roots\n",
    "alpha_1 = np.sqrt(0.25)\n",
    "alpha_2 = np.sqrt(1-alpha_1**2)\n",
    "\n",
    "phi = alpha_1*Zero + alpha_2*One\n",
    "\n",
    "x = otimes(One, phi, Zero)\n",
    "\n",
    "#psi is dot product of T and x\n",
    "psi = np.dot(T, x)"
   ]
  },
  {
   "cell_type": "code",
   "execution_count": 1,
   "metadata": {
    "inputHidden": false,
    "outputHidden": false
   },
   "outputs": [
    {
     "ename": "SyntaxError",
     "evalue": "invalid syntax (<ipython-input-1-970129f8e5bc>, line 11)",
     "output_type": "error",
     "traceback": [
      "\u001b[0;36m  File \u001b[0;32m\"<ipython-input-1-970129f8e5bc>\"\u001b[0;36m, line \u001b[0;32m11\u001b[0m\n\u001b[0;31m    print \"Pr(0) =\", p_0\u001b[0m\n\u001b[0m                  ^\u001b[0m\n\u001b[0;31mSyntaxError\u001b[0m\u001b[0;31m:\u001b[0m invalid syntax\n"
     ]
    }
   ],
   "source": [
    "# measurment matrices\n",
    "P_b0 = otimes(P0, np.eye(4))\n",
    "P_b1 = otimes(P1, np.eye(4))\n",
    "   \n",
    "# measuring probabilities\n",
    "a= np.square(np.linalg.norm(np.dot(P_b0, psi)))\n",
    "p_0 = np.round(a, 6)\n",
    "b = np.square(np.linalg.norm(np.dot(P_b1, psi)))\n",
    "p_1 = np.round(b, 6)\n",
    "\n",
    "print \"Pr(0) =\", p_0\n",
    "print \"Pr(1) =\", p_1"
   ]
  }
 ],
 "metadata": {
  "kernel_info": {
   "name": "python2"
  },
  "kernelspec": {
   "display_name": "Python 3",
   "language": "python",
   "name": "python3"
  },
  "language_info": {
   "codemirror_mode": {
    "name": "ipython",
    "version": 3
   },
   "file_extension": ".py",
   "mimetype": "text/x-python",
   "name": "python",
   "nbconvert_exporter": "python",
   "pygments_lexer": "ipython3",
   "version": "3.6.6"
  },
  "nteract": {
   "version": "0.12.3"
  }
 },
 "nbformat": 4,
 "nbformat_minor": 4
}
