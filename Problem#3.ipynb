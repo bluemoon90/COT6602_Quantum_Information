{
 "cells": [
  {
   "cell_type": "code",
   "execution_count": 1,
   "metadata": {
    "inputHidden": false,
    "outputHidden": false
   },
   "outputs": [],
   "source": [
    "import numpy as np"
   ]
  },
  {
   "cell_type": "markdown",
   "metadata": {},
   "source": [
    "Define variables for $| 0 \\rangle$, $| 1 \\rangle$, Hadamard, NOT, $| 0 \\rangle\\langle 0 |$, and $| 1 \\rangle\\langle 1 |$ and a function to compute $\\varphi_1 \\otimes \\varphi_2 \\otimes ... \\otimes\\varphi_n$."
   ]
  },
  {
   "cell_type": "code",
   "execution_count": 13,
   "metadata": {
    "inputHidden": false,
    "outputHidden": false
   },
   "outputs": [],
   "source": [
    "#initialising the arrays\n",
    "Zero = np.array([[1], [0]])\n",
    "One = np.array([[0], [1]])\n",
    "\n",
    "#Doing dot products\n",
    "P0 = np.dot(Zero, Zero.T)\n",
    "P1 = np.dot(One, One.T)\n",
    "\n",
    "#Applying Hadamard equation\n",
    "a = 1./np.sqrt(2)\n",
    "b = np.array([[1, 1],\n",
    "            [1, -1]])\n",
    "Hadamard = a * b\n",
    "\n",
    "X = np.array([[0, 1],\n",
    "              [1, 0]])\n",
    "\n",
    "\n",
    "def otimes(*args):\n",
    "    #initailising the result aray\n",
    "    result = np.array([[1.0]])\n",
    "    \n",
    "    #Computing result using loop\n",
    "    for arg in args:\n",
    "        #Apply Kronecker product in loop for input number times\n",
    "        result = np.kron(result, arg)\n",
    "    return result\n",
    "\n",
    "def dot(*args):\n",
    "    result = args[0]\n",
    "    #doing dot product for all the args given\n",
    "    for arg in args[1:]:\n",
    "        result = np.dot(result, arg)\n",
    "    return result"
   ]
  },
  {
   "cell_type": "code",
   "execution_count": 20,
   "metadata": {
    "inputHidden": false,
    "outputHidden": false
   },
   "outputs": [],
   "source": [
    "# Initialising the variables, a simple input to circuit:\n",
    "alpha_1 = np.sqrt(0.1)\n",
    "alpha_2 = np.sqrt(1-alpha_1**2)\n",
    "\n",
    "# Zero with probability alpha_1^2\n",
    "phi = alpha_1 * Zero + alpha_2 * One \n",
    "\n",
    "x = otimes(Zero, phi)\n",
    "\n",
    "# a simple one qbit gate\n",
    "U = dot(Hadamard, X, Hadamard, X)"
   ]
  },
  {
   "cell_type": "code",
   "execution_count": 1,
   "metadata": {
    "inputHidden": false,
    "outputHidden": false
   },
   "outputs": [
    {
     "ename": "SyntaxError",
     "evalue": "invalid syntax (<ipython-input-1-361fd8124daa>, line 19)",
     "output_type": "error",
     "traceback": [
      "\u001b[0;36m  File \u001b[0;32m\"<ipython-input-1-361fd8124daa>\"\u001b[0;36m, line \u001b[0;32m19\u001b[0m\n\u001b[0;31m    print \"Pr(0) =\", p_0\u001b[0m\n\u001b[0m                  ^\u001b[0m\n\u001b[0;31mSyntaxError\u001b[0m\u001b[0;31m:\u001b[0m invalid syntax\n"
     ]
    }
   ],
   "source": [
    "# firstly, a Hadamard on Q0\n",
    "# next, a controlled U gate on Q[1:n] (here we have only one controlled qbit)\n",
    "# finally, a Hadamard on Q0\n",
    "T =           otimes(Hadamard, np.eye(2))\n",
    "T = np.dot(T, otimes(P0, np.eye(2)) + otimes(P1, U))\n",
    "T = np.dot(T, otimes(Hadamard, np.eye(2)))\n",
    "\n",
    "# apply the total operation\n",
    "psi = np.dot(T, x)\n",
    "\n",
    "# otimes method call to compute matrices\n",
    "P_b0 = otimes(P0, np.eye(2))\n",
    "P_b1 = otimes(P1, np.eye(2))\n",
    "   \n",
    "# computing probabilities\n",
    "a = np.square(np.linalg.norm(np.dot(P_b0, psi)))\n",
    "p_0 = np.round(a, 6)\n",
    "b = np.square(np.linalg.norm(np.dot(P_b1, psi)))\n",
    "p_1 = np.round(b, 6)\n",
    "\n",
    "print \"Pr(0) =\", p_0\n",
    "print \"Pr(1) =\", p_1"
   ]
  },
  {
   "cell_type": "code",
   "execution_count": 5,
   "metadata": {
    "inputHidden": false,
    "outputHidden": false
   },
   "outputs": [],
   "source": []
  }
 ],
 "metadata": {
  "kernel_info": {
   "name": "python2"
  },
  "kernelspec": {
   "display_name": "Python 3",
   "language": "python",
   "name": "python3"
  },
  "language_info": {
   "codemirror_mode": {
    "name": "ipython",
    "version": 3
   },
   "file_extension": ".py",
   "mimetype": "text/x-python",
   "name": "python",
   "nbconvert_exporter": "python",
   "pygments_lexer": "ipython3",
   "version": "3.6.6"
  },
  "nteract": {
   "version": "0.12.3"
  }
 },
 "nbformat": 4,
 "nbformat_minor": 4
}
