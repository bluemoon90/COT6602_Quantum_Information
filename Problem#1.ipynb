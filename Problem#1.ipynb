{
 "cells": [
  {
   "cell_type": "code",
   "execution_count": 1,
   "metadata": {
    "inputHidden": false,
    "outputHidden": false
   },
   "outputs": [],
   "source": [
    "import numpy as np"
   ]
  },
  {
   "cell_type": "markdown",
   "metadata": {},
   "source": [
    "$F_N$ is the Quantum Fourier transform of size $N$:\n",
    "\n",
    "$$F_N = \\frac{1}{\\sqrt{N}} \\sum_{k,\\ell\\in[N]} \\omega^{k\\cdot \\ell} |k\\rangle\\langle\\ell|$$\n",
    "\n",
    "where:\n",
    "\n",
    "$N=2^n$, and $\\omega=e^{2\\pi i / N}$."
   ]
  },
  {
   "cell_type": "code",
   "execution_count": 2,
   "metadata": {
    "inputHidden": false,
    "outputHidden": false
   },
   "outputs": [],
   "source": [
    "#initialising variables\n",
    "n = 5\n",
    "N = 2**n\n",
    "\n",
    "#Here we are creating two vectos and peroforming outer product\n",
    "k_times_l = np.outer(np.arange(N), np.arange(N))\n",
    "\n",
    "#Applying the Fourier transform formula\n",
    "a = 1/np.sqrt(N)\n",
    "b = np.exp(2*np.pi*1j/N * k_times_l)\n",
    "F = a * b"
   ]
  },
  {
   "cell_type": "code",
   "execution_count": 3,
   "metadata": {
    "inputHidden": false,
    "outputHidden": false
   },
   "outputs": [
    {
     "name": "stdout",
     "output_type": "stream",
     "text": [
      "F_dagger * F is close to I: True\n",
      "F * F_dagger is close to I: True\n",
      "Thus, F is unitary!\n"
     ]
    }
   ],
   "source": [
    "#calculating conjugate\n",
    "F_dagger = np.conj(F).T\n",
    "\n",
    "#applying dot product on above computed conjugates\n",
    "R1 = np.dot(F_dagger, F)\n",
    "R2 = np.dot(F, F_dagger)\n",
    "\n",
    "#gives a matrix with 1 in diagonal and rest 0\n",
    "I = np.eye(N)\n",
    "\n",
    "print \"F_dagger * F is close to I:\", np.allclose(R1, I)\n",
    "print \"F * F_dagger is close to I:\", np.allclose(R2, I)\n",
    "print \"Thus, F is unitary!\""
   ]
  },
  {
   "cell_type": "markdown",
   "metadata": {},
   "source": [
    "Clearly $F_N^\\dagger \\, F_N=F_N\\, F_N^\\dagger=I$. Thus, $F_N$ is unitary."
   ]
  }
 ],
 "metadata": {
  "kernel_info": {
   "name": "python2"
  },
  "kernelspec": {
   "display_name": "Python 3",
   "language": "python",
   "name": "python3"
  },
  "language_info": {
   "codemirror_mode": {
    "name": "ipython",
    "version": 3
   },
   "file_extension": ".py",
   "mimetype": "text/x-python",
   "name": "python",
   "nbconvert_exporter": "python",
   "pygments_lexer": "ipython3",
   "version": "3.6.6"
  },
  "nteract": {
   "version": "0.12.3"
  }
 },
 "nbformat": 4,
 "nbformat_minor": 4
}
